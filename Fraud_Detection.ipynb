{
  "nbformat": 4,
  "nbformat_minor": 0,
  "metadata": {
    "colab": {
      "name": "Fraud Detection.ipynb",
      "provenance": [],
      "collapsed_sections": [],
      "mount_file_id": "1OOdiikl_OiFM24W_tEFPXO5ohQoXPmC7",
      "authorship_tag": "ABX9TyMnBJq848Hg8esreFvxdyE6",
      "include_colab_link": true
    },
    "kernelspec": {
      "name": "python3",
      "display_name": "Python 3"
    },
    "accelerator": "GPU"
  },
  "cells": [
    {
      "cell_type": "markdown",
      "metadata": {
        "id": "view-in-github",
        "colab_type": "text"
      },
      "source": [
        "<a href=\"https://colab.research.google.com/github/KingsleyAsuamah/First-Test/blob/master/Fraud_Detection.ipynb\" target=\"_parent\"><img src=\"https://colab.research.google.com/assets/colab-badge.svg\" alt=\"Open In Colab\"/></a>"
      ]
    },
    {
      "cell_type": "code",
      "metadata": {
        "id": "nHRVw8iTaw-T",
        "colab": {
          "base_uri": "https://localhost:8080/",
          "height": 1000
        },
        "outputId": "182cb9e4-7772-4921-b17f-46c9e98a616e"
      },
      "source": [
        "#Required Libraries\n",
        "import pandas as pd\n",
        "import sklearn as sk\n",
        "import random\n",
        "import numpy as np\n",
        "import matplotlib.pyplot as plt\n",
        "\n",
        "#Keras\n",
        "import tensorflow as tf\n",
        "from tensorflow import keras\n",
        "from keras.models import Sequential\n",
        "from keras.layers.core import Dense, Activation\n",
        "from keras.layers.recurrent import LSTM\n",
        "from keras.utils import to_categorical\n",
        "#from keras.utils.vis_utils import plot_model\n",
        "\n",
        "#Required Modules\n",
        "from sklearn import preprocessing\n",
        "lencoder = preprocessing.LabelEncoder()\n",
        "from sklearn import model_selection\n",
        "from sklearn.utils import shuffle\n",
        "from sklearn.metrics import classification_report\n",
        "\n",
        "#print(tf.__version__)\n",
        "#Load dataset\n",
        "#data = pd.read_csv('creditcard.csv')\n",
        "data = pd.read_csv('/content/drive/MyDrive/ProjectData/CreditCardTest10k.csv') #Data sample to be changed\n",
        "#data\n",
        "#data.describe()\n",
        "#print(data.shape)\n",
        "#data.dtypes\n",
        "\n",
        "#shuffle(data)\n",
        "\n",
        "#Split into Input and Output columns\n",
        "x,y = data.values[:, :30], data.values[:, 30]\n",
        "#y = data.values[:, :30], data.values[:, 30]\n",
        "\n",
        "y= to_categorical(y)\n",
        "\n",
        "#Split into Train and Test datasets\n",
        "x_train, x_test, y_train, y_test = model_selection.train_test_split(x,y,test_size=0.30)\n",
        "print(x_train.shape, x_test.shape, y_train.shape, y_test.shape)\n",
        "\n",
        "#Encoding the output\n",
        "#y_train = to_categorical(y_train)\n",
        "#y_test = to_categorical(y_test)\n",
        "\n",
        "#30 columns\n",
        "#Steps\n",
        "#Define the Model\n",
        "#Compiling the model\n",
        "#Fitting the Model\n",
        "#Evaluation\n",
        "#Make Predictions\n",
        "\n",
        "#Defining the Model\n",
        "model=keras.Sequential()\n",
        "model.add(keras.layers.Dense(20, activation='relu', input_shape=(30,)))\n",
        "model.add(keras.layers.Dense(10, activation='relu', input_shape=(20,)))\n",
        "model.add(keras.layers.Dense(5, activation='relu', input_shape=(10,)))\n",
        "model.add(keras.layers.Dense(2, activation='softmax'))\n",
        "\n",
        "#Compiling the Model\n",
        "model.compile(optimizer='adam', loss=\"categorical_crossentropy\", metrics=['Accuracy', 'Recall'])\n",
        "\n",
        "#Fitting the Model\n",
        "history = model.fit(\n",
        "    x_train,\n",
        "    y_train,\n",
        "    epochs=30,\n",
        "    batch_size=20,\n",
        "    verbose=2,\n",
        "    validation_split=0.1,\n",
        "    shuffle = True)\n",
        "\n",
        "#Model Evaluation\n",
        "score = model.evaluate(x_test, y_test)\n",
        "\n",
        "#Make Prediction\n",
        "predictedValue = model.predict_classes(x_test, batch_size=20, verbose=2)\n",
        "\n",
        "print(\"Predictions Below\")\n",
        "for val in predictedValue:\n",
        "  print(val, end=\"\")\n",
        "print(\"  \")\n",
        "\n",
        "\n",
        "#Outputing Fields in Data File\n",
        "print(\"Evaluation Score[loss, accuracy, recall]: \", end=\"\")\n",
        "print(score)\n",
        "print(\"test loss:\", score[0])\n",
        "print(\"test acc:\", score[1])\n",
        "print(\"test rec:\", score[2])\n",
        "\n",
        "print(history.history.keys())\n",
        "history_dict = history.history\n",
        "\n",
        "#plt.clf()\n",
        "#acc_values = history_dict['accuracy'] \n",
        "#val_acc_values = history_dict['val_accuracy']\n",
        "#plt.plot(30, 'accuracy', 'bo', label ='Training acc')\n",
        "#plt.plot(30, 'val_accuracy', 'b', label='Validation acc')\n",
        "#plt.title('Training and Validation accuracy')\n",
        "#plt.xlabel('epochs')\n",
        "#plt.ylabel('loss')\n",
        "#plt.legend()\n",
        "#plt.show()\n",
        "\n",
        "plt.plot(history.history['recall'])\n",
        "plt.plot(history.history['val_recall'])\n",
        "plt.title(\"model recall\")\n",
        "plt.ylabel(\"recall\")\n",
        "plt.xlabel(\"epoch\")\n",
        "# set_xlimit(1,4)\n",
        "plt.legend([\"train\", \"test\"], loc=\"upper left\")\n",
        "plt.show()\n"
      ],
      "execution_count": null,
      "outputs": [
        {
          "output_type": "stream",
          "text": [
            "(7000, 30) (3000, 30) (7000, 2) (3000, 2)\n",
            "Epoch 1/30\n",
            "315/315 - 1s - loss: 202.4178 - accuracy: 0.0268 - recall: 0.3511 - val_loss: 0.6558 - val_accuracy: 0.0057 - val_recall: 0.7714\n",
            "Epoch 2/30\n",
            "315/315 - 1s - loss: 1.0210 - accuracy: 0.0093 - recall: 0.7992 - val_loss: 1.0119 - val_accuracy: 0.0229 - val_recall: 0.5800\n",
            "Epoch 3/30\n",
            "315/315 - 1s - loss: 0.5216 - accuracy: 0.0111 - recall: 0.9130 - val_loss: 0.1309 - val_accuracy: 0.0050 - val_recall: 0.9929\n",
            "Epoch 4/30\n",
            "315/315 - 1s - loss: 0.6888 - accuracy: 0.0129 - recall: 0.8840 - val_loss: 2.4921 - val_accuracy: 0.0329 - val_recall: 0.4257\n",
            "Epoch 5/30\n",
            "315/315 - 1s - loss: 0.6337 - accuracy: 0.0161 - recall: 0.8840 - val_loss: 0.1001 - val_accuracy: 0.0079 - val_recall: 0.9900\n",
            "Epoch 6/30\n",
            "315/315 - 1s - loss: 0.4842 - accuracy: 0.0167 - recall: 0.9284 - val_loss: 0.0573 - val_accuracy: 0.0193 - val_recall: 0.9971\n",
            "Epoch 7/30\n",
            "315/315 - 1s - loss: 0.3322 - accuracy: 0.0163 - recall: 0.9494 - val_loss: 0.2476 - val_accuracy: 0.0236 - val_recall: 0.8971\n",
            "Epoch 8/30\n",
            "315/315 - 1s - loss: 0.1670 - accuracy: 0.0177 - recall: 0.9622 - val_loss: 0.0321 - val_accuracy: 0.0143 - val_recall: 0.9957\n",
            "Epoch 9/30\n",
            "315/315 - 1s - loss: 0.7263 - accuracy: 0.0206 - recall: 0.9037 - val_loss: 0.0259 - val_accuracy: 0.0221 - val_recall: 0.9971\n",
            "Epoch 10/30\n",
            "315/315 - 1s - loss: 0.1126 - accuracy: 0.0198 - recall: 0.9865 - val_loss: 0.1501 - val_accuracy: 0.0236 - val_recall: 0.9500\n",
            "Epoch 11/30\n",
            "315/315 - 1s - loss: 0.0522 - accuracy: 0.0168 - recall: 0.9911 - val_loss: 0.0275 - val_accuracy: 0.0229 - val_recall: 0.9971\n",
            "Epoch 12/30\n",
            "315/315 - 1s - loss: 0.0452 - accuracy: 0.0164 - recall: 0.9916 - val_loss: 0.0735 - val_accuracy: 0.0071 - val_recall: 0.9871\n",
            "Epoch 13/30\n",
            "315/315 - 1s - loss: 0.0354 - accuracy: 0.0149 - recall: 0.9946 - val_loss: 0.0226 - val_accuracy: 0.0150 - val_recall: 0.9971\n",
            "Epoch 14/30\n",
            "315/315 - 1s - loss: 0.0488 - accuracy: 0.0167 - recall: 0.9911 - val_loss: 0.0989 - val_accuracy: 0.0229 - val_recall: 0.9743\n",
            "Epoch 15/30\n",
            "315/315 - 1s - loss: 0.0280 - accuracy: 0.0168 - recall: 0.9954 - val_loss: 0.0213 - val_accuracy: 0.0157 - val_recall: 0.9971\n",
            "Epoch 16/30\n",
            "315/315 - 1s - loss: 0.1958 - accuracy: 0.0175 - recall: 0.9633 - val_loss: 0.0212 - val_accuracy: 0.0221 - val_recall: 0.9971\n",
            "Epoch 17/30\n",
            "315/315 - 1s - loss: 0.0497 - accuracy: 0.0164 - recall: 0.9902 - val_loss: 0.0213 - val_accuracy: 0.0093 - val_recall: 0.9971\n",
            "Epoch 18/30\n",
            "315/315 - 1s - loss: 0.0177 - accuracy: 0.0160 - recall: 0.9979 - val_loss: 0.0172 - val_accuracy: 0.0171 - val_recall: 0.9971\n",
            "Epoch 19/30\n",
            "315/315 - 1s - loss: 0.1122 - accuracy: 0.0202 - recall: 0.9816 - val_loss: 0.0174 - val_accuracy: 0.0179 - val_recall: 0.9971\n",
            "Epoch 20/30\n",
            "315/315 - 1s - loss: 0.1247 - accuracy: 0.0158 - recall: 0.9803 - val_loss: 0.0379 - val_accuracy: 0.0043 - val_recall: 0.9900\n",
            "Epoch 21/30\n",
            "315/315 - 1s - loss: 0.0436 - accuracy: 0.0075 - recall: 0.9922 - val_loss: 0.0345 - val_accuracy: 0.0086 - val_recall: 0.9943\n",
            "Epoch 22/30\n",
            "315/315 - 1s - loss: 0.0396 - accuracy: 0.0072 - recall: 0.9929 - val_loss: 0.0348 - val_accuracy: 0.0036 - val_recall: 0.9914\n",
            "Epoch 23/30\n",
            "315/315 - 1s - loss: 0.0358 - accuracy: 0.0061 - recall: 0.9932 - val_loss: 0.0274 - val_accuracy: 0.0079 - val_recall: 0.9943\n",
            "Epoch 24/30\n",
            "315/315 - 1s - loss: 0.0324 - accuracy: 0.0068 - recall: 0.9938 - val_loss: 0.0243 - val_accuracy: 0.0079 - val_recall: 0.9957\n",
            "Epoch 25/30\n",
            "315/315 - 1s - loss: 0.0295 - accuracy: 0.0071 - recall: 0.9941 - val_loss: 0.0220 - val_accuracy: 0.0064 - val_recall: 0.9957\n",
            "Epoch 26/30\n",
            "315/315 - 1s - loss: 0.0291 - accuracy: 0.0102 - recall: 0.9940 - val_loss: 0.0210 - val_accuracy: 0.0036 - val_recall: 0.9957\n",
            "Epoch 27/30\n",
            "315/315 - 1s - loss: 0.0247 - accuracy: 0.0098 - recall: 0.9941 - val_loss: 0.0190 - val_accuracy: 0.0114 - val_recall: 0.9971\n",
            "Epoch 28/30\n",
            "315/315 - 1s - loss: 0.0405 - accuracy: 0.0113 - recall: 0.9889 - val_loss: 0.0280 - val_accuracy: 0.0100 - val_recall: 0.9929\n",
            "Epoch 29/30\n",
            "315/315 - 1s - loss: 0.0283 - accuracy: 0.0128 - recall: 0.9943 - val_loss: 0.0178 - val_accuracy: 0.0086 - val_recall: 0.9971\n",
            "Epoch 30/30\n",
            "315/315 - 1s - loss: 0.0223 - accuracy: 0.0119 - recall: 0.9949 - val_loss: 0.0172 - val_accuracy: 0.0143 - val_recall: 0.9971\n",
            "94/94 [==============================] - 0s 3ms/step - loss: 0.0128 - accuracy: 0.0132 - recall: 0.9993\n",
            "WARNING:tensorflow:From <ipython-input-1-5410b083c59a>:81: Sequential.predict_classes (from tensorflow.python.keras.engine.sequential) is deprecated and will be removed after 2021-01-01.\n",
            "Instructions for updating:\n",
            "Please use instead:* `np.argmax(model.predict(x), axis=-1)`,   if your model does multi-class classification   (e.g. if it uses a `softmax` last-layer activation).* `(model.predict(x) > 0.5).astype(\"int32\")`,   if your model does binary classification   (e.g. if it uses a `sigmoid` last-layer activation).\n",
            "150/150 - 0s\n",
            "Predictions Below\n",
            "010000000000000000000000010001000000000000100000000010000000011010000010000100000000000000100000000000000000000000000000000010000001000000000000000000000000000001000000000000000000000000100000000000010000000000000000000001000000000000000000000000000000000000001000000000000000100000000000000010000000000000000000000000000001000000010101000000000001000000000000000000000000000000000001000000000000000000000000000000000000010000000000000000000100100000000001000000000000000000000000000000000000000000000000010000000000000000000000000000000000000010000000000000000000000000000001000000000000000000000000000000000000001000000000000000000000000000000000000000000000010000000000000000000000000000000000000010000000100000000000000000000000000000000000000010000000000000000000011000000001100000000000001000000000000000000100000000001000000100000000000000000010000000000011001000000000000001000000100000000000000000000100000000000000000000000000000010000000000000000000000000000000000100000000000000000000000000000000000000000000000001000000000000000000000000000000000000000000000000001000000000010000000000000100000000000000000000000000001000000000100000000000000000000000000100000000000010000000000100000000000000000000000000100000000000110000000000000000000000000000000000000000000000000000000000000000000000000000000000000000000000001000000000000000000000000010000001000000000000000000000100000000000100000100000000000000010000000000010000001000001000000000000000000000000000000000000001001000000000000000000010000000000000000100000000000000000000000000000000000000000000000000000000000000000010000000000100000000000000000000000000000000000000000000000010000000000000000000000000000000000000000000000000000000000010000001010000000000000000000000000000000000000010000000000010000010000000000000000000000000000000000000000000000000000001001000000000000000000000000000000000100000000000000000000000000000010000010000000000000000000000011001001000000000000000000000000000000100000000000000000000000010000000000000000000000000000000000001000000000000000000000000000000000000001000000000010000000000000010100000010000000000100000000000001000010000000000000000000000000000000000000000000000000000000000000000000000000000000000000000000000000000000000000000000000000000000000000001000010000000000000000000000000000000000001000000000000100000000000000000000000000000010010100000000010000000000000000000000000000000010100000000000000000000000000000000000000000000000000000000000000000000000000000000001000000000000000000000000000000000000000000010010010000100000000000000000000000000100000000000000000000001000000000000100000000000000000000011000000000000000000000000000000000000000000000000100000000000000001000000000001000000000000000000010000000010000000000000000000000000000100100000000010000100000000000000001000001000001000000000001000000000000000001000000000000000000000000000000000000000000000000100000010000100000000000000000000000000000001000000001000000000000000000000000000000000000000000000000000000000  \n",
            "Evaluation Score[loss, accuracy, recall]: [0.012790543958544731, 0.013166666962206364, 0.9993333220481873]\n",
            "test loss: 0.012790543958544731\n",
            "test acc: 0.013166666962206364\n",
            "test rec: 0.9993333220481873\n",
            "dict_keys(['loss', 'accuracy', 'recall', 'val_loss', 'val_accuracy', 'val_recall'])\n"
          ],
          "name": "stdout"
        },
        {
          "output_type": "display_data",
          "data": {
            "image/png": "[encoded data removed]",
            "text/plain": [
              "<Figure size 432x288 with 1 Axes>"
            ]
          },
          "metadata": {
            "tags": [],
            "needs_background": "light"
          }
        }
      ]
    },
    {
      "cell_type": "code",
      "metadata": {
        "id": "sUryw8hirBhB",
        "colab": {
          "base_uri": "https://localhost:8080/"
        },
        "outputId": "e1f04cbb-e416-4299-fb4f-a11bfc9cd78f"
      },
      "source": [
        "#System Appraisal\n",
        "from sklearn.metrics import accuracy_score, recall_score\n",
        "y_pred = to_categorical(predictedValue)\n",
        "print('Accuracy score: ', accuracy_score(y_test, y_pred))\n"
      ],
      "execution_count": null,
      "outputs": [
        {
          "output_type": "stream",
          "text": [
            "Accuracy score:  0.9993333333333333\n"
          ],
          "name": "stdout"
        }
      ]
    },
    {
      "cell_type": "code",
      "metadata": {
        "id": "Ni6O4anlw0hs",
        "colab": {
          "base_uri": "https://localhost:8080/"
        },
        "outputId": "6a8fd3a5-7716-42e7-c5ee-3edb9afd3718"
      },
      "source": [
        "from sklearn.metrics import classification_report\n",
        "print(classification_report(y_test, y_pred))\n"
      ],
      "execution_count": null,
      "outputs": [
        {
          "output_type": "stream",
          "text": [
            "              precision    recall  f1-score   support\n",
            "\n",
            "           0       1.00      1.00      1.00      2849\n",
            "           1       1.00      0.99      0.99       151\n",
            "\n",
            "   micro avg       1.00      1.00      1.00      3000\n",
            "   macro avg       1.00      0.99      1.00      3000\n",
            "weighted avg       1.00      1.00      1.00      3000\n",
            " samples avg       1.00      1.00      1.00      3000\n",
            "\n"
          ],
          "name": "stdout"
        }
      ]
    },
    {
      "cell_type": "code",
      "metadata": {
        "id": "4x-77Ckfw5PR",
        "colab": {
          "base_uri": "https://localhost:8080/"
        },
        "outputId": "66c79b50-a562-4061-e1b7-670ad95023b5"
      },
      "source": [
        "from sklearn.metrics import confusion_matrix\n",
        "confusion_matrix(y_test.argmax(1), y_pred.argmax(1))"
      ],
      "execution_count": null,
      "outputs": [
        {
          "output_type": "execute_result",
          "data": {
            "text/plain": [
              "array([[2849,    0],\n",
              "       [   2,  149]])"
            ]
          },
          "metadata": {
            "tags": []
          },
          "execution_count": 4
        }
      ]
    }
  ]
}